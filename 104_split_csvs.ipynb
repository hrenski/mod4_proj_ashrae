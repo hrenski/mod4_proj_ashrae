{
 "cells": [
  {
   "cell_type": "code",
   "execution_count": 1,
   "metadata": {},
   "outputs": [],
   "source": [
    "import os.path as op\n",
    "import warnings\n",
    "\n",
    "import numpy as np\n",
    "import pandas as pd\n",
    "from scipy.signal import correlate, hilbert\n",
    "import scipy.ndimage as nd\n",
    "\n",
    "from sklearn.linear_model import LinearRegression\n",
    "from sklearn.ensemble import BaggingRegressor\n",
    "from sklearn.metrics import get_scorer, make_scorer, r2_score, mean_absolute_error, mean_squared_log_error\n",
    "from sklearn.model_selection import cross_val_predict, cross_val_score, cross_validate\n",
    "from sklearn.preprocessing import RobustScaler, MinMaxScaler\n",
    "from sklearn.pipeline import make_pipeline\n",
    "from sklearn.compose import TransformedTargetRegressor\n",
    "\n",
    "from utilities import reduce_df_mem_usage, print_score\n",
    "\n",
    "from matplotlib import pyplot as plt\n",
    "import seaborn as sns\n",
    "\n",
    "import gc"
   ]
  },
  {
   "cell_type": "code",
   "execution_count": 2,
   "metadata": {},
   "outputs": [],
   "source": [
    "#sns.set(\"dark_background\")\n",
    "#sns.set(context=\"talk\")\n",
    "gc.enable()\n",
    "\n",
    "sns.set(style=\"ticks\", context=\"talk\")\n",
    "plt.style.use(\"dark_background\")\n",
    "%matplotlib inline\n",
    "\n",
    "rand_seed = 1234\n",
    "rand_state = np.random.RandomState(rand_seed)\n",
    "\n",
    "warnings.simplefilter(action='ignore', category=FutureWarning)\n",
    "\n",
    "PATH = '/home/dhren/Documents/000_flatiron/002_projects/006_1028_kaggle_ASHRAE/data'\n",
    "\n",
    "FIGSIZE = (28, 20)"
   ]
  },
  {
   "cell_type": "code",
   "execution_count": 17,
   "metadata": {},
   "outputs": [],
   "source": [
    "def partition_idx(l, n):\n",
    "    q,r = divmod(l, n) \n",
    "    return [i * q + min(i,r) for i in range(n+1)] \n",
    "\n",
    "def partition_lst(lst, n):\n",
    "    idx = partition_idx(len(lst), n)\n",
    "    return [lst[idx[i]: idx[i+1]] for i in range(n)]"
   ]
  },
  {
   "cell_type": "code",
   "execution_count": 22,
   "metadata": {},
   "outputs": [],
   "source": [
    "%%time\n",
    "\n",
    "df_tmp = pd.read_csv(op.join(PATH, 'train.csv'))\n",
    "\n",
    "bids = df_tmp.building_id.sort_values().unique()\n",
    "\n",
    "for i, batch in enumerate(partition_lst(bids, 10)):\n",
    "    df_tmp[df_tmp.building_id.isin(batch)].to_csv(op.join(PATH, 'train_{:02d}.csv'.format(i)), index = False)"
   ]
  },
  {
   "cell_type": "code",
   "execution_count": 23,
   "metadata": {},
   "outputs": [
    {
     "name": "stdout",
     "output_type": "stream",
     "text": [
      "CPU times: user 2min 42s, sys: 3.11 s, total: 2min 45s\n",
      "Wall time: 2min 38s\n"
     ]
    }
   ],
   "source": [
    "%%time\n",
    "\n",
    "df_tmp = pd.read_csv(op.join(PATH, 'test.csv'))\n",
    "\n",
    "for i, batch in enumerate(partition_lst(bids, 10)):\n",
    "    df_tmp[df_tmp.building_id.isin(batch)].to_csv(op.join(PATH, 'test_{:02d}.csv'.format(i)), index = False)"
   ]
  },
  {
   "cell_type": "code",
   "execution_count": null,
   "metadata": {},
   "outputs": [],
   "source": []
  }
 ],
 "metadata": {
  "kernelspec": {
   "display_name": "Python 3",
   "language": "python",
   "name": "python3"
  },
  "language_info": {
   "codemirror_mode": {
    "name": "ipython",
    "version": 3
   },
   "file_extension": ".py",
   "mimetype": "text/x-python",
   "name": "python",
   "nbconvert_exporter": "python",
   "pygments_lexer": "ipython3",
   "version": "3.7.4"
  }
 },
 "nbformat": 4,
 "nbformat_minor": 4
}
