{
 "cells": [
  {
   "cell_type": "code",
   "execution_count": 1,
   "metadata": {},
   "outputs": [],
   "source": [
    "import os.path as op\n",
    "import warnings\n",
    "\n",
    "import numpy as np\n",
    "import pandas as pd\n",
    "from scipy.signal import correlate, hilbert\n",
    "import scipy.ndimage as nd\n",
    "\n",
    "from sklearn.linear_model import LinearRegression\n",
    "from sklearn.ensemble import BaggingRegressor\n",
    "from sklearn.metrics import get_scorer, make_scorer, r2_score, mean_absolute_error, mean_squared_log_error\n",
    "from sklearn.model_selection import cross_val_predict, cross_val_score, cross_validate\n",
    "from sklearn.preprocessing import RobustScaler, MinMaxScaler\n",
    "from sklearn.pipeline import make_pipeline\n",
    "from sklearn.compose import TransformedTargetRegressor\n",
    "\n",
    "from matplotlib import pyplot as plt\n",
    "import seaborn as sns\n",
    "\n",
    "from IPython.display import FileLink\n",
    "\n",
    "import gc"
   ]
  },
  {
   "cell_type": "code",
   "execution_count": 2,
   "metadata": {},
   "outputs": [],
   "source": [
    "#sns.set(\"dark_background\")\n",
    "#sns.set(context=\"talk\")\n",
    "gc.enable()\n",
    "\n",
    "sns.set(style=\"ticks\", context=\"talk\")\n",
    "plt.style.use(\"dark_background\")\n",
    "%matplotlib inline\n",
    "\n",
    "rand_seed = 1234\n",
    "rand_state = np.random.RandomState(rand_seed)\n",
    "\n",
    "warnings.simplefilter(action='ignore', category=FutureWarning)\n",
    "\n",
    "PATH = '/kaggle/input/ashrae-energy-prediction'\n",
    "\n",
    "FIGSIZE = (28, 20)"
   ]
  },
  {
   "cell_type": "code",
   "execution_count": 3,
   "metadata": {},
   "outputs": [],
   "source": [
    "def apply_mega_est(mega_est, df, cols, stat = 'mean'):\n",
    "    \"\"\"stat = mean, median\"\"\"\n",
    "    y_pred = np.zeros((len(mega_est), len(df)), dtype = 'f4')\n",
    "\n",
    "    for i, est in enumerate(mega_est):\n",
    "        y_pred[i] = est.predict(df[cols])\n",
    "        \n",
    "    if stat == 'median':\n",
    "        y_pred = np.median(y_pred, axis = 0)\n",
    "    else:\n",
    "        y_pred = np.mean(y_pred, axis = 0)\n",
    "\n",
    "    return y_pred\n",
    "\n",
    "def partition_idx(l, n):\n",
    "    q,r = divmod(l, n) \n",
    "    return [i * q + min(i,r) for i in range(n+1)] \n",
    "\n",
    "def partition_lst(lst, n):\n",
    "    idx = partition_idx(len(lst), n)\n",
    "    return [lst[idx[i]: idx[i+1]] for i in range(n)]"
   ]
  },
  {
   "cell_type": "code",
   "execution_count": 4,
   "metadata": {},
   "outputs": [],
   "source": [
    "def reduce_df_mem_usage(df, verbose=False):\n",
    "    numerics = ['int16', 'int32', 'int64', 'float16', 'float32', 'float64']\n",
    "    start_mem = df.memory_usage().sum() / 1024**2    \n",
    "    for col in df.columns:\n",
    "        col_type = df[col].dtypes\n",
    "        if col_type in numerics:\n",
    "            c_min = df[col].min()\n",
    "            c_max = df[col].max()\n",
    "            if str(col_type)[:3] == 'int':\n",
    "                if c_min > np.iinfo(np.int8).min and c_max < np.iinfo(np.int8).max:\n",
    "                    df[col] = df[col].astype(np.int8)\n",
    "                elif c_min > np.iinfo(np.int16).min and c_max < np.iinfo(np.int16).max:\n",
    "                    df[col] = df[col].astype(np.int16)\n",
    "                elif c_min > np.iinfo(np.int32).min and c_max < np.iinfo(np.int32).max:\n",
    "                    df[col] = df[col].astype(np.int32)\n",
    "                elif c_min > np.iinfo(np.int64).min and c_max < np.iinfo(np.int64).max:\n",
    "                    df[col] = df[col].astype(np.int64)  \n",
    "            else:\n",
    "                if c_min > np.finfo(np.float32).min and c_max < np.finfo(np.float32).max:\n",
    "                    df[col] = df[col].astype(np.float32)\n",
    "                else:\n",
    "                    df[col] = df[col].astype(np.float64)    \n",
    "    end_mem = df.memory_usage().sum() / 1024**2\n",
    "    if verbose: print('Mem. usage decreased to {:5.2f} Mb ({:.1f}% reduction)'.format(end_mem, 100 * (start_mem - end_mem) / start_mem))\n",
    "    return df\n",
    "\n",
    "def print_score(score_dict):\n",
    "    for k in sorted(score_dict):\n",
    "        print(\"{:25s} : {:0.4f}  +/- {:0.4f}\".format(k, score_dict[k].mean(), score_dict[k].std()))"
   ]
  },
  {
   "cell_type": "code",
   "execution_count": 5,
   "metadata": {},
   "outputs": [],
   "source": [
    "def med_nojunk(val):\n",
    "    bol = pd.isna(val) | (val == 0)\n",
    "    val = np.median(val[~bol])\n",
    "\n",
    "    return val\n",
    "\n",
    "def denoise(val):\n",
    "    vl = val.size\n",
    "\n",
    "    bol = pd.isna(val) | (val <= 0)\n",
    "    val[bol] = np.median(val[~bol])\n",
    "    \n",
    "    val = np.pad(val, (0,vl % 2), mode = 'constant')\n",
    "    val2 = val\n",
    "    val_fft = np.fft.rfft(val)\n",
    "    \n",
    "    val_fft *= np.interp(np.fft.rfftfreq(val.size, 0.001), [0., 50., 70., 500.], [1. ,1., 0., 0.])\n",
    "    val = np.fft.irfft(val_fft)\n",
    "    val = val[:vl]\n",
    "\n",
    "    bol = val <= 0\n",
    "    val[bol] = np.median(val[~bol])\n",
    "\n",
    "    return val\n",
    "\n",
    "def junk(x):\n",
    "    bol = pd.isna(x) | (x == 0)\n",
    "    return bol\n",
    "\n",
    "def make_mods(x):\n",
    "    bid = x.building_id.unique()[0]\n",
    "    mid = x.meter.unique()[0]\n",
    "    m_min, m_max = x.meter_reading.min(), x.meter_reading.max()\n",
    "        \n",
    "    encode = RobustScaler()\n",
    "    #lr = BaggingRegressor(base_estimator = LinearRegression(), n_estimators = 10, random_state = rand_state)\n",
    "    lr = LinearRegression()\n",
    "    clipped_lr = TransformedTargetRegressor(regressor=lr, func = np.log1p, inverse_func = lambda x : np.clip(np.expm1(x), m_min, m_max), check_inverse=False)\n",
    "    pipe = make_pipeline(encode, clipped_lr)\n",
    "    \n",
    "    scores = cross_validate(pipe, x[[\"pred_week\", \"pred_dayofweek\", \"pred_hourofday\"]], x[\"meter_reading\"], cv = 3, n_jobs = -1, scoring = {'log_mse' : log_mse, 'r2' : get_scorer('r2'), 'mae' : mae}, return_estimator = True, return_train_score = True)\n",
    "\n",
    "    mods[(bid, mid)] = scores.pop('estimator')\n",
    "    x['Prediction'] = apply_mega_est(mods[(bid, mid)], x, [\"pred_week\", \"pred_dayofweek\", \"pred_hourofday\"], stat = 'median')\n",
    "    \n",
    "    return x\n",
    "\n",
    "def apply_mods(x):\n",
    "    bid = x.building_id.unique()[0]\n",
    "    mid = x.meter.unique()[0]\n",
    "    x = x.interpolate(method = 'nearest').bfill().ffill()\n",
    "    x['Prediction'] = apply_mega_est(mods[(bid, mid)], x, [\"pred_week\", \"pred_dayofweek\", \"pred_hourofday\"], stat = 'median')\n",
    "\n",
    "    return x\n",
    "\n",
    "log_mse = make_scorer(mean_squared_log_error)\n",
    "mae = make_scorer(mean_absolute_error)"
   ]
  },
  {
   "cell_type": "code",
   "execution_count": 6,
   "metadata": {},
   "outputs": [],
   "source": [
    "num_iter = 10"
   ]
  },
  {
   "cell_type": "code",
   "execution_count": 7,
   "metadata": {},
   "outputs": [
    {
     "name": "stdout",
     "output_type": "stream",
     "text": [
      "CPU times: user 3min 22s, sys: 16.8 s, total: 3min 39s\n",
      "Wall time: 3min 38s\n"
     ]
    }
   ],
   "source": [
    "%%time\n",
    "\n",
    "df_tmp = pd.read_csv(op.join(PATH, 'train.csv'))\n",
    "\n",
    "bids = df_tmp.building_id.sort_values().unique()\n",
    "\n",
    "for i, batch in enumerate(partition_lst(bids, num_iter)):\n",
    "    df_tmp[df_tmp.building_id.isin(batch)].to_csv('train_{:02d}.csv'.format(i), index = False)"
   ]
  },
  {
   "cell_type": "code",
   "execution_count": 8,
   "metadata": {},
   "outputs": [
    {
     "name": "stdout",
     "output_type": "stream",
     "text": [
      "CPU times: user 6min 33s, sys: 20.4 s, total: 6min 54s\n",
      "Wall time: 6min 52s\n"
     ]
    }
   ],
   "source": [
    "%%time\n",
    "\n",
    "df_tmp = pd.read_csv(op.join(PATH, 'test.csv'))\n",
    "\n",
    "for i, batch in enumerate(partition_lst(bids, num_iter)):\n",
    "    df_tmp[df_tmp.building_id.isin(batch)].to_csv('test_{:02d}.csv'.format(i), index = False)"
   ]
  },
  {
   "cell_type": "code",
   "execution_count": 9,
   "metadata": {},
   "outputs": [
    {
     "name": "stdout",
     "output_type": "stream",
     "text": [
      "===============  1/10 ===============\n",
      "Loading training dataset\n",
      "Cleaning training dataset\n"
     ]
    },
    {
     "name": "stderr",
     "output_type": "stream",
     "text": [
      "/opt/conda/lib/python3.6/site-packages/ipykernel_launcher.py:11: SettingWithCopyWarning: \n",
      "A value is trying to be set on a copy of a slice from a DataFrame.\n",
      "Try using .loc[row_indexer,col_indexer] = value instead\n",
      "\n",
      "See the caveats in the documentation: http://pandas.pydata.org/pandas-docs/stable/user_guide/indexing.html#returning-a-view-versus-a-copy\n",
      "  # This is added back by InteractiveShellApp.init_path()\n",
      "/opt/conda/lib/python3.6/site-packages/pandas/core/frame.py:3530: SettingWithCopyWarning: \n",
      "A value is trying to be set on a copy of a slice from a DataFrame\n",
      "\n",
      "See the caveats in the documentation: http://pandas.pydata.org/pandas-docs/stable/user_guide/indexing.html#returning-a-view-versus-a-copy\n",
      "  self._where(-key, value, inplace=True)\n"
     ]
    },
    {
     "name": "stdout",
     "output_type": "stream",
     "text": [
      "Creating period predictions\n",
      "Computing local weighted sums\n",
      "Mean Sqrd Log Error (weekly) 0.06445387\n",
      "Mean Sqrd Log Error (weighted) 0.048947483\n",
      "Loading test dataset\n",
      "Creating period predictions\n",
      "Applying local weighted sums\n",
      "Saving test predictions\n",
      "===============  2/10 ===============\n",
      "Loading training dataset\n",
      "Cleaning training dataset\n"
     ]
    },
    {
     "name": "stderr",
     "output_type": "stream",
     "text": [
      "/opt/conda/lib/python3.6/site-packages/ipykernel_launcher.py:11: SettingWithCopyWarning: \n",
      "A value is trying to be set on a copy of a slice from a DataFrame.\n",
      "Try using .loc[row_indexer,col_indexer] = value instead\n",
      "\n",
      "See the caveats in the documentation: http://pandas.pydata.org/pandas-docs/stable/user_guide/indexing.html#returning-a-view-versus-a-copy\n",
      "  # This is added back by InteractiveShellApp.init_path()\n",
      "/opt/conda/lib/python3.6/site-packages/pandas/core/frame.py:3530: SettingWithCopyWarning: \n",
      "A value is trying to be set on a copy of a slice from a DataFrame\n",
      "\n",
      "See the caveats in the documentation: http://pandas.pydata.org/pandas-docs/stable/user_guide/indexing.html#returning-a-view-versus-a-copy\n",
      "  self._where(-key, value, inplace=True)\n"
     ]
    },
    {
     "name": "stdout",
     "output_type": "stream",
     "text": [
      "Creating period predictions\n",
      "Computing local weighted sums\n",
      "Mean Sqrd Log Error (weekly) 0.17045408\n",
      "Mean Sqrd Log Error (weighted) 0.105825946\n",
      "Loading test dataset\n",
      "Creating period predictions\n",
      "Applying local weighted sums\n",
      "Saving test predictions\n",
      "===============  3/10 ===============\n",
      "Loading training dataset\n",
      "Cleaning training dataset\n"
     ]
    },
    {
     "name": "stderr",
     "output_type": "stream",
     "text": [
      "/opt/conda/lib/python3.6/site-packages/ipykernel_launcher.py:11: SettingWithCopyWarning: \n",
      "A value is trying to be set on a copy of a slice from a DataFrame.\n",
      "Try using .loc[row_indexer,col_indexer] = value instead\n",
      "\n",
      "See the caveats in the documentation: http://pandas.pydata.org/pandas-docs/stable/user_guide/indexing.html#returning-a-view-versus-a-copy\n",
      "  # This is added back by InteractiveShellApp.init_path()\n",
      "/opt/conda/lib/python3.6/site-packages/pandas/core/frame.py:3530: SettingWithCopyWarning: \n",
      "A value is trying to be set on a copy of a slice from a DataFrame\n",
      "\n",
      "See the caveats in the documentation: http://pandas.pydata.org/pandas-docs/stable/user_guide/indexing.html#returning-a-view-versus-a-copy\n",
      "  self._where(-key, value, inplace=True)\n"
     ]
    },
    {
     "name": "stdout",
     "output_type": "stream",
     "text": [
      "Creating period predictions\n",
      "Computing local weighted sums\n",
      "Mean Sqrd Log Error (weekly) 0.09707176\n",
      "Mean Sqrd Log Error (weighted) 0.058195964\n",
      "Loading test dataset\n",
      "Creating period predictions\n",
      "Applying local weighted sums\n",
      "Saving test predictions\n",
      "===============  4/10 ===============\n",
      "Loading training dataset\n",
      "Cleaning training dataset\n"
     ]
    },
    {
     "name": "stderr",
     "output_type": "stream",
     "text": [
      "/opt/conda/lib/python3.6/site-packages/ipykernel_launcher.py:11: SettingWithCopyWarning: \n",
      "A value is trying to be set on a copy of a slice from a DataFrame.\n",
      "Try using .loc[row_indexer,col_indexer] = value instead\n",
      "\n",
      "See the caveats in the documentation: http://pandas.pydata.org/pandas-docs/stable/user_guide/indexing.html#returning-a-view-versus-a-copy\n",
      "  # This is added back by InteractiveShellApp.init_path()\n",
      "/opt/conda/lib/python3.6/site-packages/pandas/core/frame.py:3530: SettingWithCopyWarning: \n",
      "A value is trying to be set on a copy of a slice from a DataFrame\n",
      "\n",
      "See the caveats in the documentation: http://pandas.pydata.org/pandas-docs/stable/user_guide/indexing.html#returning-a-view-versus-a-copy\n",
      "  self._where(-key, value, inplace=True)\n"
     ]
    },
    {
     "name": "stdout",
     "output_type": "stream",
     "text": [
      "Creating period predictions\n",
      "Computing local weighted sums\n",
      "Mean Sqrd Log Error (weekly) 0.078217104\n",
      "Mean Sqrd Log Error (weighted) 0.040918317\n",
      "Loading test dataset\n",
      "Creating period predictions\n",
      "Applying local weighted sums\n",
      "Saving test predictions\n",
      "===============  5/10 ===============\n",
      "Loading training dataset\n",
      "Cleaning training dataset\n"
     ]
    },
    {
     "name": "stderr",
     "output_type": "stream",
     "text": [
      "/opt/conda/lib/python3.6/site-packages/ipykernel_launcher.py:11: SettingWithCopyWarning: \n",
      "A value is trying to be set on a copy of a slice from a DataFrame.\n",
      "Try using .loc[row_indexer,col_indexer] = value instead\n",
      "\n",
      "See the caveats in the documentation: http://pandas.pydata.org/pandas-docs/stable/user_guide/indexing.html#returning-a-view-versus-a-copy\n",
      "  # This is added back by InteractiveShellApp.init_path()\n",
      "/opt/conda/lib/python3.6/site-packages/pandas/core/frame.py:3530: SettingWithCopyWarning: \n",
      "A value is trying to be set on a copy of a slice from a DataFrame\n",
      "\n",
      "See the caveats in the documentation: http://pandas.pydata.org/pandas-docs/stable/user_guide/indexing.html#returning-a-view-versus-a-copy\n",
      "  self._where(-key, value, inplace=True)\n"
     ]
    },
    {
     "name": "stdout",
     "output_type": "stream",
     "text": [
      "Creating period predictions\n",
      "Computing local weighted sums\n",
      "Mean Sqrd Log Error (weekly) 0.2331397\n",
      "Mean Sqrd Log Error (weighted) 0.107988894\n",
      "Loading test dataset\n",
      "Creating period predictions\n",
      "Applying local weighted sums\n",
      "Saving test predictions\n",
      "===============  6/10 ===============\n",
      "Loading training dataset\n",
      "Cleaning training dataset\n"
     ]
    },
    {
     "name": "stderr",
     "output_type": "stream",
     "text": [
      "/opt/conda/lib/python3.6/site-packages/ipykernel_launcher.py:11: SettingWithCopyWarning: \n",
      "A value is trying to be set on a copy of a slice from a DataFrame.\n",
      "Try using .loc[row_indexer,col_indexer] = value instead\n",
      "\n",
      "See the caveats in the documentation: http://pandas.pydata.org/pandas-docs/stable/user_guide/indexing.html#returning-a-view-versus-a-copy\n",
      "  # This is added back by InteractiveShellApp.init_path()\n",
      "/opt/conda/lib/python3.6/site-packages/pandas/core/frame.py:3530: SettingWithCopyWarning: \n",
      "A value is trying to be set on a copy of a slice from a DataFrame\n",
      "\n",
      "See the caveats in the documentation: http://pandas.pydata.org/pandas-docs/stable/user_guide/indexing.html#returning-a-view-versus-a-copy\n",
      "  self._where(-key, value, inplace=True)\n"
     ]
    },
    {
     "name": "stdout",
     "output_type": "stream",
     "text": [
      "Creating period predictions\n",
      "Computing local weighted sums\n",
      "Mean Sqrd Log Error (weekly) 0.1966032\n",
      "Mean Sqrd Log Error (weighted) 0.1659514\n",
      "Loading test dataset\n",
      "Creating period predictions\n",
      "Applying local weighted sums\n",
      "Saving test predictions\n",
      "===============  7/10 ===============\n",
      "Loading training dataset\n",
      "Cleaning training dataset\n"
     ]
    },
    {
     "name": "stderr",
     "output_type": "stream",
     "text": [
      "/opt/conda/lib/python3.6/site-packages/ipykernel_launcher.py:11: SettingWithCopyWarning: \n",
      "A value is trying to be set on a copy of a slice from a DataFrame.\n",
      "Try using .loc[row_indexer,col_indexer] = value instead\n",
      "\n",
      "See the caveats in the documentation: http://pandas.pydata.org/pandas-docs/stable/user_guide/indexing.html#returning-a-view-versus-a-copy\n",
      "  # This is added back by InteractiveShellApp.init_path()\n",
      "/opt/conda/lib/python3.6/site-packages/pandas/core/frame.py:3530: SettingWithCopyWarning: \n",
      "A value is trying to be set on a copy of a slice from a DataFrame\n",
      "\n",
      "See the caveats in the documentation: http://pandas.pydata.org/pandas-docs/stable/user_guide/indexing.html#returning-a-view-versus-a-copy\n",
      "  self._where(-key, value, inplace=True)\n"
     ]
    },
    {
     "name": "stdout",
     "output_type": "stream",
     "text": [
      "Creating period predictions\n",
      "Computing local weighted sums\n",
      "Mean Sqrd Log Error (weekly) 0.120877564\n",
      "Mean Sqrd Log Error (weighted) 0.101763524\n",
      "Loading test dataset\n",
      "Creating period predictions\n",
      "Applying local weighted sums\n",
      "Saving test predictions\n",
      "===============  8/10 ===============\n",
      "Loading training dataset\n",
      "Cleaning training dataset\n"
     ]
    },
    {
     "name": "stderr",
     "output_type": "stream",
     "text": [
      "/opt/conda/lib/python3.6/site-packages/ipykernel_launcher.py:11: SettingWithCopyWarning: \n",
      "A value is trying to be set on a copy of a slice from a DataFrame.\n",
      "Try using .loc[row_indexer,col_indexer] = value instead\n",
      "\n",
      "See the caveats in the documentation: http://pandas.pydata.org/pandas-docs/stable/user_guide/indexing.html#returning-a-view-versus-a-copy\n",
      "  # This is added back by InteractiveShellApp.init_path()\n",
      "/opt/conda/lib/python3.6/site-packages/pandas/core/frame.py:3530: SettingWithCopyWarning: \n",
      "A value is trying to be set on a copy of a slice from a DataFrame\n",
      "\n",
      "See the caveats in the documentation: http://pandas.pydata.org/pandas-docs/stable/user_guide/indexing.html#returning-a-view-versus-a-copy\n",
      "  self._where(-key, value, inplace=True)\n"
     ]
    },
    {
     "name": "stdout",
     "output_type": "stream",
     "text": [
      "Creating period predictions\n",
      "Computing local weighted sums\n",
      "Mean Sqrd Log Error (weekly) 0.21889761\n",
      "Mean Sqrd Log Error (weighted) 0.2154123\n",
      "Loading test dataset\n",
      "Creating period predictions\n",
      "Applying local weighted sums\n",
      "Saving test predictions\n",
      "===============  9/10 ===============\n",
      "Loading training dataset\n",
      "Cleaning training dataset\n"
     ]
    },
    {
     "name": "stderr",
     "output_type": "stream",
     "text": [
      "/opt/conda/lib/python3.6/site-packages/ipykernel_launcher.py:11: SettingWithCopyWarning: \n",
      "A value is trying to be set on a copy of a slice from a DataFrame.\n",
      "Try using .loc[row_indexer,col_indexer] = value instead\n",
      "\n",
      "See the caveats in the documentation: http://pandas.pydata.org/pandas-docs/stable/user_guide/indexing.html#returning-a-view-versus-a-copy\n",
      "  # This is added back by InteractiveShellApp.init_path()\n",
      "/opt/conda/lib/python3.6/site-packages/pandas/core/frame.py:3530: SettingWithCopyWarning: \n",
      "A value is trying to be set on a copy of a slice from a DataFrame\n",
      "\n",
      "See the caveats in the documentation: http://pandas.pydata.org/pandas-docs/stable/user_guide/indexing.html#returning-a-view-versus-a-copy\n",
      "  self._where(-key, value, inplace=True)\n"
     ]
    },
    {
     "name": "stdout",
     "output_type": "stream",
     "text": [
      "Creating period predictions\n",
      "Computing local weighted sums\n",
      "Mean Sqrd Log Error (weekly) 0.17891495\n",
      "Mean Sqrd Log Error (weighted) 0.16951269\n",
      "Loading test dataset\n",
      "Creating period predictions\n",
      "Applying local weighted sums\n",
      "Saving test predictions\n",
      "=============== 10/10 ===============\n",
      "Loading training dataset\n",
      "Cleaning training dataset\n"
     ]
    },
    {
     "name": "stderr",
     "output_type": "stream",
     "text": [
      "/opt/conda/lib/python3.6/site-packages/ipykernel_launcher.py:11: SettingWithCopyWarning: \n",
      "A value is trying to be set on a copy of a slice from a DataFrame.\n",
      "Try using .loc[row_indexer,col_indexer] = value instead\n",
      "\n",
      "See the caveats in the documentation: http://pandas.pydata.org/pandas-docs/stable/user_guide/indexing.html#returning-a-view-versus-a-copy\n",
      "  # This is added back by InteractiveShellApp.init_path()\n",
      "/opt/conda/lib/python3.6/site-packages/pandas/core/frame.py:3530: SettingWithCopyWarning: \n",
      "A value is trying to be set on a copy of a slice from a DataFrame\n",
      "\n",
      "See the caveats in the documentation: http://pandas.pydata.org/pandas-docs/stable/user_guide/indexing.html#returning-a-view-versus-a-copy\n",
      "  self._where(-key, value, inplace=True)\n"
     ]
    },
    {
     "name": "stdout",
     "output_type": "stream",
     "text": [
      "Creating period predictions\n",
      "Computing local weighted sums\n",
      "Mean Sqrd Log Error (weekly) 0.12656912\n",
      "Mean Sqrd Log Error (weighted) 0.11205386\n",
      "Loading test dataset\n",
      "Creating period predictions\n",
      "Applying local weighted sums\n",
      "Saving test predictions\n",
      "CPU times: user 1h 34min 38s, sys: 33.6 s, total: 1h 35min 12s\n",
      "Wall time: 1h 36min 7s\n"
     ]
    }
   ],
   "source": [
    "%%time\n",
    "\n",
    "for i in range(num_iter):\n",
    "# for i in [0]:\n",
    "    \n",
    "    print(\"{:s} {:2d}/{:2d} {:s}\".format(\"=\"*15, i+1, 10, \"=\"*15))\n",
    "    \n",
    "    print(\"Loading training dataset\")\n",
    "\n",
    "    df_tmp = pd.read_csv('train_%02d.csv'%(i))\n",
    "\n",
    "    df_tmp['timestamp'] = pd.to_datetime(df_tmp['timestamp'])\n",
    "    df_tmp['week'] = pd.Series(df_tmp.timestamp).dt.week.values\n",
    "    df_tmp['dayofweek'] = pd.Series(df_tmp.timestamp).dt.dayofweek.values\n",
    "    df_tmp['hourofday'] = pd.Series(df_tmp.timestamp).dt.hour.values\n",
    "\n",
    "    df_train = reduce_df_mem_usage(df_tmp)\n",
    "    del df_tmp; gc.collect()\n",
    "\n",
    "    group = ['building_id', 'meter']\n",
    "    target = 'meter_reading'\n",
    "\n",
    "    #idx = grp.transform(junk)\n",
    "    #df_train.loc[idx.values.ravel(), target] = grp.transform(med_nojunk).loc[idx.values.ravel()]\n",
    "\n",
    "    #del idx\n",
    "    #gc.collect()\n",
    "\n",
    "    print(\"Cleaning training dataset\")\n",
    "    \n",
    "    grp = df_train.groupby(group)[[target]]\n",
    "    df_train[target] = grp.transform(denoise)\n",
    "\n",
    "    print(\"Creating period predictions\")\n",
    "    \n",
    "    preds_week = reduce_df_mem_usage(df_train.groupby(['building_id', 'meter', 'week'])[[target]].median().rename({'meter_reading': 'pred_week'},axis=1))\n",
    "    preds_dayofweek = reduce_df_mem_usage(df_train.groupby(['building_id', 'meter', 'dayofweek'])[[target]].median().rename({'meter_reading': 'pred_dayofweek'},axis=1))\n",
    "    preds_hourofday = reduce_df_mem_usage(df_train.groupby(['building_id', 'meter', 'hourofday'])[[target]].median().rename({'meter_reading': 'pred_hourofday'},axis=1))\n",
    "\n",
    "    df_tmp = df_train.merge(preds_week, on=['building_id', 'meter', 'week'], how='left')\n",
    "    df_tmp = df_tmp.merge(preds_dayofweek, on=['building_id', 'meter', 'dayofweek'], how='left')\n",
    "    df_tmp = df_tmp.merge(preds_hourofday, on=['building_id', 'meter', 'hourofday'], how='left')\n",
    "\n",
    "    df_train = reduce_df_mem_usage(df_tmp)\n",
    "\n",
    "    del df_tmp\n",
    "    gc.collect()\n",
    "\n",
    "    print(\"Computing local weighted sums\")\n",
    "    mods = {}\n",
    "\n",
    "    df_train = df_train.groupby(['building_id', 'meter']).apply(make_mods)\n",
    "    \n",
    "    print(\"Mean Sqrd Log Error (weekly)\", mean_squared_log_error(df_train.meter_reading, df_train.pred_week))\n",
    "    print(\"Mean Sqrd Log Error (weighted)\", mean_squared_log_error(df_train.meter_reading, df_train.Prediction))\n",
    "\n",
    "    del df_train\n",
    "    gc.collect()\n",
    "\n",
    "    print(\"Loading test dataset\")\n",
    "    df_tmp = pd.read_csv('test_%02d.csv'%(i))\n",
    "\n",
    "    df_tmp['timestamp'] = pd.to_datetime(df_tmp['timestamp'])\n",
    "    df_tmp['week'] = pd.Series(df_tmp.timestamp).dt.week.values\n",
    "    df_tmp['dayofweek'] = pd.Series(df_tmp.timestamp).dt.dayofweek.values\n",
    "    df_tmp['hourofday'] = pd.Series(df_tmp.timestamp).dt.hour.values\n",
    "\n",
    "    df_test = reduce_df_mem_usage(df_tmp)\n",
    "\n",
    "    del df_tmp\n",
    "    gc.collect()\n",
    "\n",
    "    print(\"Creating period predictions\")\n",
    "    df_tmp = df_test.merge(preds_week, on=['building_id', 'meter', 'week'], how='left')\n",
    "    df_tmp = df_tmp.merge(preds_dayofweek, on=['building_id', 'meter', 'dayofweek'], how='left')\n",
    "    df_tmp = df_tmp.merge(preds_hourofday, on=['building_id', 'meter', 'hourofday'], how='left')\n",
    "\n",
    "    df_test = reduce_df_mem_usage(df_tmp)\n",
    "\n",
    "    del df_tmp\n",
    "    gc.collect()\n",
    "\n",
    "    print(\"Applying local weighted sums\")\n",
    "    df_test = df_test.groupby(['building_id', 'meter']).apply(apply_mods)\n",
    "    \n",
    "    print(\"Saving test predictions\")\n",
    "    df_test[['row_id', 'Prediction']].to_csv('submission_1029_periodic_hicut_linReg_%02d.csv'%(i), index = False)"
   ]
  },
  {
   "cell_type": "code",
   "execution_count": 10,
   "metadata": {},
   "outputs": [
    {
     "name": "stdout",
     "output_type": "stream",
     "text": [
      "CPU times: user 10.4 s, sys: 808 ms, total: 11.2 s\n",
      "Wall time: 10.8 s\n"
     ]
    }
   ],
   "source": [
    "%%time \n",
    "\n",
    "li = []\n",
    "\n",
    "for i in range(num_iter):\n",
    "    li.append(pd.read_csv('submission_1029_periodic_hicut_linReg_%02d.csv'%(i)))"
   ]
  },
  {
   "cell_type": "code",
   "execution_count": 11,
   "metadata": {},
   "outputs": [
    {
     "name": "stdout",
     "output_type": "stream",
     "text": [
      "CPU times: user 3min 48s, sys: 5.4 s, total: 3min 53s\n",
      "Wall time: 3min 52s\n"
     ]
    },
    {
     "data": {
      "text/html": [
       "Path (<tt>submission_1029_periodic_linReg.csv</tt>) doesn't exist. It may still be in the process of being generated, or you may have the incorrect path."
      ],
      "text/plain": [
       "/kaggle/working/submission_1029_periodic_linReg.csv"
      ]
     },
     "execution_count": 11,
     "metadata": {},
     "output_type": "execute_result"
    }
   ],
   "source": [
    "%%time \n",
    "\n",
    "df_final = pd.concat(li, axis=0, ignore_index=True).sort_values('row_id')\n",
    "df_final.columns = ['row_id', 'meter_reading']\n",
    "\n",
    "df_final.to_csv('submission_1029_periodic_hicut_linReg.csv', index = False)\n",
    "FileLink(r'submission_1029_periodic_linReg.csv')"
   ]
  }
 ],
 "metadata": {
  "kernelspec": {
   "display_name": "Python 3",
   "language": "python",
   "name": "python3"
  },
  "language_info": {
   "codemirror_mode": {
    "name": "ipython",
    "version": 3
   },
   "file_extension": ".py",
   "mimetype": "text/x-python",
   "name": "python",
   "nbconvert_exporter": "python",
   "pygments_lexer": "ipython3",
   "version": "3.6.6"
  }
 },
 "nbformat": 4,
 "nbformat_minor": 1
}
